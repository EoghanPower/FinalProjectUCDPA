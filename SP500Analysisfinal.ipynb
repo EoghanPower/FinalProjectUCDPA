{
 "cells": [
  {
   "cell_type": "code",
   "execution_count": 1,
   "id": "c9e72bf1",
   "metadata": {},
   "outputs": [],
   "source": [
    "import pandas as pd\n",
    "import numpy as np \n",
    "import re\n",
    "import matplotlib.pyplot as plt \n",
    "plt.style.use('ggplot')\n",
    "import seaborn as sns"
   ]
  },
  {
   "cell_type": "code",
   "execution_count": 3,
   "id": "2bdd6eb4",
   "metadata": {},
   "outputs": [],
   "source": [
    "sp500_companies = pd.read_csv('sp500companies.csv')"
   ]
  },
  {
   "cell_type": "code",
   "execution_count": 4,
   "id": "f73e18b5",
   "metadata": {},
   "outputs": [
    {
     "name": "stdout",
     "output_type": "stream",
     "text": [
      "  Exchange Symbol              Shortname               Longname  \\\n",
      "0      NMS   AAPL             Apple Inc.             Apple Inc.   \n",
      "1      NMS   MSFT  Microsoft Corporation  Microsoft Corporation   \n",
      "2      NMS  GOOGL          Alphabet Inc.          Alphabet Inc.   \n",
      "3      NMS   GOOG          Alphabet Inc.          Alphabet Inc.   \n",
      "4      NMS   AMZN       Amazon.com, Inc.       Amazon.com, Inc.   \n",
      "\n",
      "                   Sector                        Industry  Currentprice  \\\n",
      "0              Technology            Consumer Electronics        172.99   \n",
      "1              Technology         Software—Infrastructure        327.29   \n",
      "2  Communication Services  Internet Content & Information       2869.45   \n",
      "3  Communication Services  Internet Content & Information       2884.41   \n",
      "4       Consumer Cyclical                 Internet Retail       3408.34   \n",
      "\n",
      "      Marketcap        Ebitda  Revenuegrowth           City State  \\\n",
      "0  2.838140e+12  1.202330e+11          0.288      Cupertino    CA   \n",
      "1  2.465010e+12  8.574500e+10          0.220        Redmond    WA   \n",
      "2  1.909750e+12  8.519700e+10          0.410  Mountain View    CA   \n",
      "3  1.909000e+12  8.519700e+10          0.410  Mountain View    CA   \n",
      "4  1.728530e+12  6.040400e+10          0.153        Seattle    WA   \n",
      "\n",
      "         Country  Fulltimeemployees  \\\n",
      "0  United States           154000.0   \n",
      "1  United States           181000.0   \n",
      "2  United States           150028.0   \n",
      "3  United States           150028.0   \n",
      "4  United States          1468000.0   \n",
      "\n",
      "                                 Longbusinesssummary    Weight  \n",
      "0  Apple Inc. designs, manufactures, and markets ...  0.064597  \n",
      "1  Microsoft Corporation develops, licenses, and ...  0.056104  \n",
      "2  Alphabet Inc. provides online advertising serv...  0.043466  \n",
      "3  Alphabet Inc. provides online advertising serv...  0.043449  \n",
      "4  Amazon.com, Inc. engages in the retail sale of...  0.039342  \n"
     ]
    }
   ],
   "source": [
    "print(sp500_companies.head())"
   ]
  },
  {
   "cell_type": "code",
   "execution_count": 7,
   "id": "0bf01c07",
   "metadata": {},
   "outputs": [
    {
     "name": "stdout",
     "output_type": "stream",
     "text": [
      "               Shortname     Marketcap\n",
      "0             Apple Inc.  2.838140e+12\n",
      "1  Microsoft Corporation  2.465010e+12\n",
      "2          Alphabet Inc.  1.909750e+12\n",
      "3          Alphabet Inc.  1.909000e+12\n",
      "4       Amazon.com, Inc.  1.728530e+12\n"
     ]
    }
   ],
   "source": [
    "sp_marketcap = sp500_companies.loc[:,['Shortname','Marketcap']]\n",
    "print(sp_marketcap.head())"
   ]
  },
  {
   "cell_type": "code",
   "execution_count": 8,
   "id": "d4ff0a43",
   "metadata": {},
   "outputs": [
    {
     "data": {
      "text/plain": [
       "pandas.core.series.Series"
      ]
     },
     "execution_count": 8,
     "metadata": {},
     "output_type": "execute_result"
    }
   ],
   "source": [
    "type(sp_marketcap['Marketcap'])"
   ]
  },
  {
   "cell_type": "code",
   "execution_count": 10,
   "id": "a8c62e5a",
   "metadata": {},
   "outputs": [
    {
     "name": "stdout",
     "output_type": "stream",
     "text": [
      "[2.83814000e+12 2.46501000e+12 1.90975000e+12 1.90900000e+12\n",
      " 1.72853000e+12 9.47611000e+11 9.04114000e+11 8.16940000e+11\n",
      " 6.70924000e+11 4.73916000e+11 4.72500000e+11 4.59781000e+11\n",
      " 4.40331000e+11 4.15171000e+11 3.91236000e+11 3.86233000e+11\n",
      " 3.78678000e+11 3.47600000e+11 3.29984000e+11 2.74447000e+11\n",
      " 2.68223000e+11 2.65268000e+11 2.65127000e+11 2.63270000e+11\n",
      " 2.57193000e+11 2.56129000e+11 2.55496000e+11 2.54027000e+11\n",
      " 2.53637000e+11 2.49086000e+11 2.48506000e+11 2.41371000e+11\n",
      " 2.39197000e+11 2.33385000e+11 2.32910000e+11 2.29736000e+11\n",
      " 2.24477000e+11 2.23913000e+11 2.22633000e+11 2.22188000e+11\n",
      " 2.18513000e+11 2.05009000e+11 2.02566000e+11 1.97987000e+11\n",
      " 1.97281000e+11 1.91272000e+11 1.81910000e+11 1.81507000e+11\n",
      " 1.81137000e+11 1.77413000e+11 1.74740000e+11 1.74198000e+11\n",
      " 1.73113000e+11 1.72117000e+11 1.69713000e+11 1.66402000e+11\n",
      " 1.60907000e+11 1.56925000e+11 1.50989000e+11 1.45007000e+11\n",
      " 1.40071000e+11 1.38931000e+11 1.38638000e+11 1.38111000e+11\n",
      " 1.34539000e+11 1.32697000e+11 1.30049000e+11 1.29218000e+11\n",
      " 1.27876000e+11 1.26783000e+11 1.26537000e+11 1.24653000e+11\n",
      " 1.24634000e+11 1.24437000e+11 1.22741000e+11 1.21563000e+11\n",
      " 1.18948000e+11 1.16681000e+11 1.15238000e+11 1.13341000e+11\n",
      " 1.12824000e+11 1.09120000e+11 1.08874000e+11 1.08632000e+11\n",
      " 1.08370000e+11 1.07666000e+11 1.01690000e+11 9.96456694e+10\n",
      " 9.86989036e+10 9.74187643e+10 9.71206656e+10 9.65670175e+10\n",
      " 9.53770066e+10 9.47115704e+10 9.03989576e+10 9.03509443e+10\n",
      " 9.01002854e+10 8.94250435e+10 8.89576161e+10 8.77530071e+10\n",
      " 8.58656276e+10 8.58242908e+10 8.42001449e+10 8.36417864e+10\n",
      " 8.35924787e+10 8.16817029e+10 8.08686387e+10 7.94822083e+10\n",
      " 7.92447386e+10 7.82760673e+10 7.73316444e+10 7.68178340e+10\n",
      " 7.54542264e+10 7.54444124e+10 7.47663524e+10 7.32476129e+10\n",
      " 7.32366930e+10 7.20741990e+10 7.13612247e+10 7.02824448e+10\n",
      " 7.01841080e+10 6.94455910e+10 6.83709891e+10 6.75529851e+10\n",
      " 6.68529172e+10 6.66451436e+10 6.55630418e+10 6.47931822e+10\n",
      " 6.46519644e+10 6.46079529e+10 6.44759347e+10 6.33052938e+10\n",
      " 6.27536486e+10 6.22152622e+10 6.18693550e+10 6.16960451e+10\n",
      " 6.09221263e+10 5.92440648e+10 5.84136090e+10 5.81948088e+10\n",
      " 5.80743619e+10 5.74194647e+10 5.65881078e+10 5.59087862e+10\n",
      " 5.54056335e+10 5.54011607e+10 5.53088942e+10 5.47851100e+10\n",
      " 5.47258737e+10 5.45906893e+10 5.32202742e+10 5.29317683e+10\n",
      " 5.27088148e+10 5.23713700e+10 5.17858836e+10 5.15551683e+10\n",
      " 5.14858926e+10 5.09308396e+10 5.07563868e+10 5.07494195e+10\n",
      " 5.06815980e+10 5.03979172e+10 4.96959611e+10 4.96722084e+10\n",
      " 4.95765217e+10 4.95295529e+10 4.90452664e+10 4.90134200e+10\n",
      " 4.85283676e+10 4.83611730e+10 4.78361723e+10 4.70515958e+10\n",
      " 4.70008996e+10 4.66116035e+10 4.65103258e+10 4.64975421e+10\n",
      " 4.64960758e+10 4.58860995e+10 4.57826304e+10 4.55603159e+10\n",
      " 4.53009162e+10 4.49354998e+10 4.44706488e+10 4.43868447e+10\n",
      " 4.34063770e+10 4.34032026e+10 4.32342180e+10 4.31851233e+10\n",
      " 4.30618337e+10 4.28821217e+10 4.28102492e+10 4.27466220e+10\n",
      " 4.25526231e+10 4.24583373e+10 4.23797432e+10 4.21741978e+10\n",
      " 4.17521787e+10 4.13762273e+10 4.13478748e+10 4.12183798e+10\n",
      " 4.11808195e+10 4.07572562e+10 4.07035412e+10 4.04868055e+10\n",
      " 3.97310525e+10 3.96847104e+10 3.94325156e+10 3.94046669e+10\n",
      " 3.93631580e+10 3.93067069e+10 3.91078380e+10 3.89242307e+10\n",
      " 3.88663255e+10 3.87765617e+10 3.87654861e+10 3.81077422e+10\n",
      " 3.80155249e+10 3.76012513e+10 3.75777403e+10 3.74898033e+10\n",
      " 3.73064868e+10 3.66061486e+10 3.65687931e+10 3.63993743e+10\n",
      " 3.63554079e+10 3.62685645e+10 3.61336627e+10 3.61252577e+10\n",
      " 3.59825818e+10 3.57046477e+10 3.55079782e+10 3.54633236e+10\n",
      " 3.54049147e+10 3.53865810e+10 3.53811743e+10 3.53277297e+10\n",
      " 3.52817521e+10 3.46632970e+10 3.45923256e+10 3.45039340e+10\n",
      " 3.42269563e+10 3.40853596e+10 3.39873731e+10 3.39560407e+10\n",
      " 3.37739674e+10 3.37031209e+10 3.36707072e+10 3.36045036e+10\n",
      " 3.34452060e+10 3.33130056e+10 3.31861668e+10 3.29516052e+10\n",
      " 3.29073930e+10 3.29049600e+10 3.28161075e+10 3.28147599e+10\n",
      " 3.25242962e+10 3.24861235e+10 3.24825293e+10 3.21059410e+10\n",
      " 3.16570808e+10 3.15877253e+10 3.11707402e+10 3.11050465e+10\n",
      " 3.10477926e+10 3.09599478e+10 3.08702024e+10 3.05547346e+10\n",
      " 3.04708157e+10 2.98811597e+10 2.98465239e+10 2.98322043e+10\n",
      " 2.95630418e+10 2.95396680e+10 2.95301448e+10 2.91527639e+10\n",
      " 2.89463665e+10 2.89458668e+10 2.88491418e+10 2.88148070e+10\n",
      " 2.85702124e+10 2.82819850e+10 2.79627387e+10 2.75128218e+10\n",
      " 2.74335314e+10 2.73204101e+10 2.72285307e+10 2.72208302e+10\n",
      " 2.71014339e+10 2.68447642e+10 2.68291604e+10 2.68229509e+10\n",
      " 2.66957844e+10 2.66624164e+10 2.65598505e+10 2.62201692e+10\n",
      " 2.60468122e+10 2.58877768e+10 2.58010481e+10 2.57539830e+10\n",
      " 2.57066967e+10 2.56753971e+10 2.56471122e+10 2.55307059e+10\n",
      " 2.55245394e+10 2.55134106e+10 2.51981435e+10 2.50813911e+10\n",
      " 2.50039603e+10 2.49975091e+10 2.49779732e+10 2.48472207e+10\n",
      " 2.48190321e+10 2.47794278e+10 2.46590136e+10 2.46392013e+10\n",
      " 2.45736018e+10 2.45168108e+10 2.44536934e+10 2.44161085e+10\n",
      " 2.41695785e+10 2.41322066e+10 2.41246802e+10 2.38087762e+10\n",
      " 2.33465651e+10 2.33431347e+10 2.30462730e+10 2.29773640e+10\n",
      " 2.26365706e+10 2.25653228e+10 2.24580915e+10 2.23500575e+10\n",
      " 2.22591427e+10 2.22112788e+10 2.21568266e+10 2.21470761e+10\n",
      " 2.20210770e+10 2.19809198e+10 2.19231662e+10 2.19207578e+10\n",
      " 2.18865377e+10 2.17157960e+10 2.16683172e+10 2.15593902e+10\n",
      " 2.15278981e+10 2.13320745e+10 2.12875121e+10 2.12126884e+10\n",
      " 2.11896812e+10 2.11580498e+10 2.09518838e+10 2.09373942e+10\n",
      " 2.09026519e+10 2.08812708e+10 2.08457236e+10 2.06005617e+10\n",
      " 2.05774991e+10 2.04945961e+10 2.04441682e+10 2.03301806e+10\n",
      " 2.03136799e+10 2.01610322e+10 2.01374413e+10 2.01046057e+10\n",
      " 1.96884521e+10 1.95864023e+10 1.95203727e+10 1.95095798e+10\n",
      " 1.94925015e+10 1.94918277e+10 1.94098135e+10 1.91758787e+10\n",
      " 1.91306035e+10 1.90783816e+10 1.89850112e+10 1.89596979e+10\n",
      " 1.88151849e+10 1.87400724e+10 1.86987745e+10 1.86540155e+10\n",
      " 1.84644403e+10 1.84472863e+10 1.83294116e+10 1.81427692e+10\n",
      " 1.80868567e+10 1.79994153e+10 1.79687588e+10 1.79172966e+10\n",
      " 1.78568356e+10 1.77536123e+10 1.74800630e+10 1.73471969e+10\n",
      " 1.72855235e+10 1.72817347e+10 1.71777956e+10 1.69432187e+10\n",
      " 1.69326879e+10 1.69076685e+10 1.68642918e+10 1.68463135e+10\n",
      " 1.66378988e+10 1.64483502e+10 1.62039276e+10 1.60334008e+10\n",
      " 1.58213591e+10 1.58077880e+10 1.57140675e+10 1.56321597e+10\n",
      " 1.55374500e+10 1.54437171e+10 1.52222761e+10 1.51958825e+10\n",
      " 1.51142697e+10 1.50581606e+10 1.50245632e+10 1.49378693e+10\n",
      " 1.48716052e+10 1.48714435e+10 1.48407931e+10 1.47135836e+10\n",
      " 1.45352438e+10 1.44261591e+10 1.43148841e+10 1.42894899e+10\n",
      " 1.42147809e+10 1.41774111e+10 1.41088840e+10 1.41079050e+10\n",
      " 1.40153303e+10 1.39684526e+10 1.39345684e+10 1.38638787e+10\n",
      " 1.37818911e+10 1.36326093e+10 1.35276411e+10 1.35008317e+10\n",
      " 1.34339011e+10 1.33281720e+10 1.32783852e+10 1.32781588e+10\n",
      " 1.29966367e+10 1.28762061e+10 1.28172800e+10 1.24892621e+10\n",
      " 1.24846612e+10 1.24212920e+10 1.24185774e+10 1.23880356e+10\n",
      " 1.22421084e+10 1.22165350e+10 1.21487698e+10 1.19046103e+10\n",
      " 1.18710641e+10 1.18377861e+10 1.18020741e+10 1.17409178e+10\n",
      " 1.17329541e+10 1.16756910e+10 1.15643044e+10 1.15609324e+10\n",
      " 1.14155561e+10 1.14136576e+10 1.13339740e+10 1.12762204e+10\n",
      " 1.10670531e+10 1.10120632e+10 1.08708065e+10 1.06157138e+10\n",
      " 1.05339648e+10 1.05192591e+10 1.04933960e+10 1.02822830e+10\n",
      " 1.02013092e+10 1.01621862e+10 1.01386056e+10 1.00992563e+10\n",
      " 1.00478208e+10 9.97947904e+09 9.66789632e+09 9.34999859e+09\n",
      " 9.20536269e+09 9.11417958e+09 8.97854874e+09 8.94953267e+09\n",
      " 8.76036813e+09 8.61886566e+09 8.54453914e+09 8.22921267e+09\n",
      " 8.20881306e+09 7.98152192e+09 7.94579712e+09 7.92109619e+09\n",
      " 7.63098778e+09 7.36814336e+09 7.35016550e+09 7.21842278e+09\n",
      " 7.21654426e+09 7.03820646e+09 6.52494387e+09 6.48720230e+09\n",
      " 5.61376922e+09 5.11481498e+09 3.74835296e+08]\n"
     ]
    }
   ],
   "source": [
    " marketcapnumpy = np.array(sp_marketcap['Marketcap'])\n",
    "print(marketcapnumpy)"
   ]
  },
  {
   "cell_type": "code",
   "execution_count": 11,
   "id": "74cb9e30",
   "metadata": {},
   "outputs": [
    {
     "data": {
      "text/plain": [
       "87348426160.28629"
      ]
     },
     "execution_count": 11,
     "metadata": {},
     "output_type": "execute_result"
    }
   ],
   "source": [
    "np.mean(marketcapnumpy)"
   ]
  },
  {
   "cell_type": "code",
   "execution_count": 12,
   "id": "76ecefac",
   "metadata": {},
   "outputs": [
    {
     "data": {
      "text/plain": [
       "43936258358624.0"
      ]
     },
     "execution_count": 12,
     "metadata": {},
     "output_type": "execute_result"
    }
   ],
   "source": [
    "np.sum(marketcapnumpy)"
   ]
  },
  {
   "cell_type": "code",
   "execution_count": 13,
   "id": "53fb0dfa",
   "metadata": {},
   "outputs": [
    {
     "data": {
      "text/plain": [
       "2837765164704.0"
      ]
     },
     "execution_count": 13,
     "metadata": {},
     "output_type": "execute_result"
    }
   ],
   "source": [
    "np.ptp(marketcapnumpy) #range"
   ]
  },
  {
   "cell_type": "code",
   "execution_count": null,
   "id": "af6415ff",
   "metadata": {},
   "outputs": [],
   "source": [
    "#A little complicated and dificult to work with so I will Divide by a billion to simplify"
   ]
  },
  {
   "cell_type": "code",
   "execution_count": 14,
   "id": "83c24746",
   "metadata": {},
   "outputs": [],
   "source": [
    "marketcapsbln = marketcapnumpy/1000000000"
   ]
  },
  {
   "cell_type": "code",
   "execution_count": 15,
   "id": "36042fdc",
   "metadata": {},
   "outputs": [
    {
     "data": {
      "text/plain": [
       "2837.7651647039997"
      ]
     },
     "execution_count": 15,
     "metadata": {},
     "output_type": "execute_result"
    }
   ],
   "source": [
    "np.ptp(marketcapsbln)\n"
   ]
  },
  {
   "cell_type": "code",
   "execution_count": 50,
   "id": "5bd2c4be",
   "metadata": {
    "scrolled": true
   },
   "outputs": [
    {
     "data": {
      "image/png": "[encoded data removed]",
      "text/plain": [
       "<Figure size 432x288 with 1 Axes>"
      ]
     },
     "metadata": {},
     "output_type": "display_data"
    }
   ],
   "source": [
    "plt.hist(marketcapsbln, bins=10, )\n",
    "plt.xlabel('Market Cap in Billions USD')\n",
    "plt.ylabel('Number of Companies')\n",
    "plt.title('Distribution of Market Cap across S&P 500')\n",
    "plt.show()"
   ]
  },
  {
   "cell_type": "code",
   "execution_count": 18,
   "id": "ee077435",
   "metadata": {},
   "outputs": [],
   "source": [
    "#Sort the dataframe to find the top ten and bottom ten by market cap"
   ]
  },
  {
   "cell_type": "code",
   "execution_count": 22,
   "id": "28c9bd71",
   "metadata": {},
   "outputs": [
    {
     "data": {
      "text/html": [
       "<div>\n",
       "<style scoped>\n",
       "    .dataframe tbody tr th:only-of-type {\n",
       "        vertical-align: middle;\n",
       "    }\n",
       "\n",
       "    .dataframe tbody tr th {\n",
       "        vertical-align: top;\n",
       "    }\n",
       "\n",
       "    .dataframe thead th {\n",
       "        text-align: right;\n",
       "    }\n",
       "</style>\n",
       "<table border=\"1\" class=\"dataframe\">\n",
       "  <thead>\n",
       "    <tr style=\"text-align: right;\">\n",
       "      <th></th>\n",
       "      <th>Shortname</th>\n",
       "      <th>Marketcap</th>\n",
       "    </tr>\n",
       "  </thead>\n",
       "  <tbody>\n",
       "    <tr>\n",
       "      <th>0</th>\n",
       "      <td>Apple Inc.</td>\n",
       "      <td>2.838140e+12</td>\n",
       "    </tr>\n",
       "    <tr>\n",
       "      <th>1</th>\n",
       "      <td>Microsoft Corporation</td>\n",
       "      <td>2.465010e+12</td>\n",
       "    </tr>\n",
       "    <tr>\n",
       "      <th>2</th>\n",
       "      <td>Alphabet Inc.</td>\n",
       "      <td>1.909750e+12</td>\n",
       "    </tr>\n",
       "    <tr>\n",
       "      <th>3</th>\n",
       "      <td>Alphabet Inc.</td>\n",
       "      <td>1.909000e+12</td>\n",
       "    </tr>\n",
       "    <tr>\n",
       "      <th>4</th>\n",
       "      <td>Amazon.com, Inc.</td>\n",
       "      <td>1.728530e+12</td>\n",
       "    </tr>\n",
       "    <tr>\n",
       "      <th>5</th>\n",
       "      <td>Meta Platforms, Inc.</td>\n",
       "      <td>9.476110e+11</td>\n",
       "    </tr>\n",
       "    <tr>\n",
       "      <th>6</th>\n",
       "      <td>Tesla, Inc.</td>\n",
       "      <td>9.041140e+11</td>\n",
       "    </tr>\n",
       "    <tr>\n",
       "      <th>7</th>\n",
       "      <td>General Electric Company</td>\n",
       "      <td>8.169400e+11</td>\n",
       "    </tr>\n",
       "    <tr>\n",
       "      <th>8</th>\n",
       "      <td>Berkshire Hathaway Inc. New</td>\n",
       "      <td>6.709240e+11</td>\n",
       "    </tr>\n",
       "    <tr>\n",
       "      <th>9</th>\n",
       "      <td>Visa Inc.</td>\n",
       "      <td>4.739160e+11</td>\n",
       "    </tr>\n",
       "    <tr>\n",
       "      <th>10</th>\n",
       "      <td>JP Morgan Chase &amp; Co.</td>\n",
       "      <td>4.725000e+11</td>\n",
       "    </tr>\n",
       "    <tr>\n",
       "      <th>11</th>\n",
       "      <td>UnitedHealth Group Incorporated</td>\n",
       "      <td>4.597810e+11</td>\n",
       "    </tr>\n",
       "    <tr>\n",
       "      <th>12</th>\n",
       "      <td>Johnson &amp; Johnson</td>\n",
       "      <td>4.403310e+11</td>\n",
       "    </tr>\n",
       "    <tr>\n",
       "      <th>13</th>\n",
       "      <td>Home Depot, Inc. (The)</td>\n",
       "      <td>4.151710e+11</td>\n",
       "    </tr>\n",
       "    <tr>\n",
       "      <th>14</th>\n",
       "      <td>Walmart Inc.</td>\n",
       "      <td>3.912360e+11</td>\n",
       "    </tr>\n",
       "  </tbody>\n",
       "</table>\n",
       "</div>"
      ],
      "text/plain": [
       "                          Shortname     Marketcap\n",
       "0                        Apple Inc.  2.838140e+12\n",
       "1             Microsoft Corporation  2.465010e+12\n",
       "2                     Alphabet Inc.  1.909750e+12\n",
       "3                     Alphabet Inc.  1.909000e+12\n",
       "4                  Amazon.com, Inc.  1.728530e+12\n",
       "5              Meta Platforms, Inc.  9.476110e+11\n",
       "6                       Tesla, Inc.  9.041140e+11\n",
       "7          General Electric Company  8.169400e+11\n",
       "8       Berkshire Hathaway Inc. New  6.709240e+11\n",
       "9                         Visa Inc.  4.739160e+11\n",
       "10            JP Morgan Chase & Co.  4.725000e+11\n",
       "11  UnitedHealth Group Incorporated  4.597810e+11\n",
       "12                Johnson & Johnson  4.403310e+11\n",
       "13           Home Depot, Inc. (The)  4.151710e+11\n",
       "14                     Walmart Inc.  3.912360e+11"
      ]
     },
     "execution_count": 22,
     "metadata": {},
     "output_type": "execute_result"
    }
   ],
   "source": [
    "Marketcap_largest = sp_marketcap.sort_values('Marketcap', ascending = False)\n",
    "Marketcap_largest.head(15)"
   ]
  },
  {
   "cell_type": "code",
   "execution_count": 24,
   "id": "4d232c7d",
   "metadata": {},
   "outputs": [],
   "source": [
    "#find the other market caps to create a data frame"
   ]
  },
  {
   "cell_type": "code",
   "execution_count": 26,
   "id": "5f937e53",
   "metadata": {},
   "outputs": [
    {
     "data": {
      "text/plain": [
       "0                         Apple Inc.\n",
       "1              Microsoft Corporation\n",
       "2                      Alphabet Inc.\n",
       "3                      Alphabet Inc.\n",
       "4                   Amazon.com, Inc.\n",
       "                   ...              \n",
       "498           Alaska Air Group, Inc.\n",
       "499                  Gap, Inc. (The)\n",
       "500                 Hanesbrands Inc.\n",
       "501    Leggett & Platt, Incorporated\n",
       "502              Coterra Energy Inc.\n",
       "Name: Shortname, Length: 503, dtype: object"
      ]
     },
     "execution_count": 26,
     "metadata": {},
     "output_type": "execute_result"
    }
   ],
   "source": [
    "sp500_companies.iloc[:, 2]"
   ]
  },
  {
   "cell_type": "code",
   "execution_count": 27,
   "id": "2cec934b",
   "metadata": {},
   "outputs": [
    {
     "name": "stdout",
     "output_type": "stream",
     "text": [
      "0                         Apple Inc.\n",
      "1              Microsoft Corporation\n",
      "2                      Alphabet Inc.\n",
      "3                      Alphabet Inc.\n",
      "4                   Amazon.com, Inc.\n",
      "                   ...              \n",
      "498           Alaska Air Group, Inc.\n",
      "499                  Gap, Inc. (The)\n",
      "500                 Hanesbrands Inc.\n",
      "501    Leggett & Platt, Incorporated\n",
      "502              Coterra Energy Inc.\n",
      "Name: Shortname, Length: 503, dtype: object\n"
     ]
    }
   ],
   "source": [
    "print(sp500_companies.iloc[:, 2])"
   ]
  },
  {
   "cell_type": "code",
   "execution_count": 29,
   "id": "48ede98e",
   "metadata": {},
   "outputs": [
    {
     "name": "stdout",
     "output_type": "stream",
     "text": [
      "['Apple Inc.' 'Microsoft Corporation' 'Alphabet Inc.' 'Alphabet Inc.'\n",
      " 'Amazon.com, Inc.' 'Meta Platforms, Inc.' 'Tesla, Inc.'\n",
      " 'General Electric Company' 'Berkshire Hathaway Inc. New' 'Visa Inc.'\n",
      " 'JP Morgan Chase & Co.' 'UnitedHealth Group Incorporated'\n",
      " 'Johnson & Johnson' 'Home Depot, Inc. (The)' 'Walmart Inc.'\n",
      " 'Procter & Gamble Company (The)' 'Bank of America Corporation'\n",
      " 'Mastercard Incorporated' 'Pfizer, Inc.' 'Walt Disney Company (The)'\n",
      " 'Netflix, Inc.' 'Adobe Inc.' 'Broadcom Inc.' 'Nike, Inc.'\n",
      " 'Cisco Systems, Inc.' 'Exxon Mobil Corporation' 'Oracle Corporation'\n",
      " 'Eli Lilly and Company' 'Thermo Fisher Scientific Inc'\n",
      " 'Coca-Cola Company (The)' 'Accenture plc' 'Costco Wholesale Corporation'\n",
      " 'Abbott Laboratories' 'Pepsico, Inc.' 'Salesforce.com Inc' 'AbbVie Inc.'\n",
      " 'Comcast Corporation' 'Danaher Corporation' 'Chevron Corporation'\n",
      " 'PayPal Holdings, Inc.' 'Verizon Communications Inc.' 'Intel Corporation'\n",
      " 'QUALCOMM Incorporated' 'Wells Fargo & Company' \"McDonald's Corporation\"\n",
      " 'Merck & Company, Inc.' 'Morgan Stanley' 'United Parcel Service, Inc.'\n",
      " 'NVIDIA Corporation' 'NextEra Energy, Inc.' 'AT&T Inc.'\n",
      " 'Advanced Micro Devices, Inc.' 'Linde plc'\n",
      " 'Texas Instruments Incorporated' 'Intuit Inc.' \"Lowe's Companies, Inc.\"\n",
      " 'Union Pacific Corporation' 'Charles Schwab Corporation (The'\n",
      " 'T-Mobile US, Inc.' 'Philip Morris International Inc'\n",
      " 'Honeywell International Inc.' 'BlackRock, Inc.'\n",
      " 'Bristol-Myers Squibb Company' 'Medtronic plc.' 'Applied Materials, Inc.'\n",
      " 'CVS Health Corporation' 'Starbucks Corporation'\n",
      " 'Goldman Sachs Group, Inc. (The)' 'Estee Lauder Companies, Inc. (T'\n",
      " 'Raytheon Technologies Corporati' 'American Tower Corporation (REI'\n",
      " 'ServiceNow, Inc.' 'American Express Company' 'Amgen Inc.'\n",
      " 'Citigroup, Inc.' 'Charter Communications, Inc.' 'Prologis, Inc.'\n",
      " 'Boeing Company (The)' 'International Business Machines'\n",
      " 'S&P Global Inc.' 'Zoetis Inc.' 'Deere & Company' 'Target Corporation'\n",
      " 'Caterpillar, Inc.' 'Anthem, Inc.' 'Moderna, Inc.'\n",
      " 'Micron Technology, Inc.' '3M Company' 'Automatic Data Processing, Inc.'\n",
      " 'Lam Research Corporation' 'Booking Holdings Inc. Common St'\n",
      " 'Stryker Corporation' 'ConocoPhillips' 'Lockheed Martin Corporation'\n",
      " 'Analog Devices, Inc.' 'Mondelez International, Inc.'\n",
      " 'Gilead Sciences, Inc.' 'TJX Companies, Inc. (The)'\n",
      " 'Sherwin-Williams Company (The)' 'Altria Group, Inc.'\n",
      " 'Marsh & McLennan Companies, Inc' 'Crown Castle International Corp'\n",
      " 'Chubb Limited' 'PNC Financial Services Group, I' 'U.S. Bancorp'\n",
      " 'HCA Healthcare, Inc.' 'CME Group Inc.' 'General Motors Company'\n",
      " 'Duke Energy Corporation (Holdin' 'Ford Motor Company'\n",
      " 'Edwards Lifesciences Corporatio' 'Truist Financial Corporation'\n",
      " 'Cigna Corporation' 'Intercontinental Exchange Inc.'\n",
      " 'Illinois Tool Works Inc.' \"Moody's Corporation\"\n",
      " 'Becton, Dickinson and Company' 'Equinix, Inc.'\n",
      " 'Norfolk Southern Corporation' 'Southern Company (The)' 'Fiserv, Inc.'\n",
      " 'Colgate-Palmolive Company' 'Fidelity National Information S'\n",
      " 'Waste Management, Inc.' 'FedEx Corporation' 'Eaton Corporation, PLC'\n",
      " 'Air Products and Chemicals, Inc' 'Capital One Financial Corporati'\n",
      " 'Regeneron Pharmaceuticals, Inc.' 'Aon plc' 'Ecolab Inc.'\n",
      " 'Public Storage' 'KLA Corporation' 'Dominion Energy, Inc.'\n",
      " 'NXP Semiconductors N.V.' 'Autodesk, Inc.' 'Northrop Grumman Corporation'\n",
      " 'Progressive Corporation (The)' 'Boston Scientific Corporation'\n",
      " 'General Dynamics Corporation' 'Humana Inc.' 'Freeport-McMoRan, Inc.'\n",
      " 'Vertex Pharmaceuticals Incorpor' 'IHS Markit Ltd.' 'Fortinet, Inc.'\n",
      " 'Illumina, Inc.' 'Johnson Controls International ' 'Synopsys, Inc.'\n",
      " 'DexCom, Inc.' 'Emerson Electric Company' 'IDEXX Laboratories, Inc.'\n",
      " 'MetLife, Inc.' 'Exelon Corporation' 'Dollar General Corporation'\n",
      " 'TE Connectivity Ltd. New Switze' 'Marriott International'\n",
      " 'IQVIA Holdings, Inc.' 'Cadence Design Systems, Inc.' 'Xilinx, Inc.'\n",
      " 'Simon Property Group, Inc.' 'The Bank of New York Mellon Cor'\n",
      " 'EOG Resources, Inc.' 'Roper Technologies, Inc.' 'Amphenol Corporation'\n",
      " 'Align Technology, Inc.' 'Activision Blizzard, Inc'\n",
      " 'Monster Beverage Corporation' 'MSCI Inc' 'Chipotle Mexican Grill, Inc.'\n",
      " 'Centene Corporation' 'Digital Realty Trust, Inc.'\n",
      " \"O'Reilly Automotive, Inc.\" 'Kimberly-Clark Corporation'\n",
      " 'Newmont Corporation' 'Constellation Brands, Inc.'\n",
      " 'Trane Technologies plc' 'Agilent Technologies, Inc.'\n",
      " 'Cintas Corporation' 'American International Group, I' 'Paychex, Inc.'\n",
      " 'Carrier Global Corporation' 'Cognizant Technology Solutions ' 'HP Inc.'\n",
      " 'Motorola Solutions, Inc.' 'Pioneer Natural Resources Compa' 'eBay Inc.'\n",
      " 'T. Rowe Price Group, Inc.' 'Walgreens Boots Alliance, Inc.'\n",
      " 'American Electric Power Company' 'AutoZone, Inc.'\n",
      " 'The Kraft Heinz Company' 'Aptiv PLC' 'Republic Services, Inc.'\n",
      " 'L3Harris Technologies, Inc.' 'Arista Networks, Inc.'\n",
      " 'Baxter International Inc.' 'Prudential Financial, Inc.'\n",
      " 'Hilton Worldwide Holdings Inc.' 'Marathon Petroleum Corporation'\n",
      " 'Intuitive Surgical, Inc.' 'Schlumberger N.V.'\n",
      " 'SBA Communications Corporation' 'DuPont de Nemours, Inc.' 'Dow Inc.'\n",
      " 'Yum! Brands, Inc.' 'General Mills, Inc.' 'Rockwell Automation, Inc.'\n",
      " 'Parker-Hannifin Corporation' 'Old Dominion Freight Line, Inc.'\n",
      " 'DBA Sempra' 'The Travelers Companies, Inc.' 'Global Payments Inc.'\n",
      " 'PPG Industries, Inc.' 'The Hershey Company' 'Ross Stores, Inc.'\n",
      " 'Sysco Corporation' 'Electronic Arts Inc.' 'AFLAC Incorporated'\n",
      " 'McKesson Corporation' 'ResMed Inc.' 'D.R. Horton, Inc.'\n",
      " 'EPAM Systems, Inc.' 'Mettler-Toledo International, I'\n",
      " 'Keysight Technologies Inc.' 'Match Group, Inc.'\n",
      " 'Archer-Daniels-Midland Company' 'SVB Financial Group'\n",
      " 'Otis Worldwide Corporation' 'Verisk Analytics, Inc.' 'Xcel Energy Inc.'\n",
      " 'International Flavors & Fragran' 'Kinder Morgan, Inc.' 'Twitter, Inc.'\n",
      " 'FIRST REPUBLIC BANK' 'Fastenal Company' 'Biogen Inc.'\n",
      " 'Discover Financial Services' 'CBRE Group Inc' 'ANSYS, Inc.'\n",
      " 'Welltower Inc.' 'AvalonBay Communities, Inc.' 'Equifax, Inc.'\n",
      " 'Arthur J. Gallagher & Co.' 'Copart, Inc.' 'Corteva, Inc.'\n",
      " 'Alexandria Real Estate Equities' 'Nucor Corporation' 'Brown Forman Inc'\n",
      " 'Transdigm Group Incorporated' 'Lennar Corporation' 'Nasdaq, Inc.'\n",
      " 'Ameriprise Financial, Inc.' 'American Water Works Company, I'\n",
      " 'Equity Residential' 'West Pharmaceutical Services, I'\n",
      " 'Kroger Company (The)' 'AMETEK, Inc.' 'Allstate Corporation (The)'\n",
      " 'Public Service Enterprise Group' 'State Street Corporation'\n",
      " 'Dollar Tree, Inc.' 'Phillips 66' 'Williams Companies, Inc. (The)'\n",
      " 'Tyson Foods, Inc.' 'Zebra Technologies Corporation' 'Cummins Inc.'\n",
      " 'Corning Incorporated' 'Eversource Energy (D/B/A)'\n",
      " 'Willis Towers Watson Public Lim' 'WEC Energy Group, Inc.'\n",
      " 'Fifth Third Bancorp' 'Consolidated Edison, Inc.'\n",
      " 'Laboratory Corporation of Ameri' 'Ball Corporation'\n",
      " 'LyondellBasell Industries NV' 'Valero Energy Corporation'\n",
      " 'Stanley Black & Decker, Inc.' 'PACCAR Inc.' 'Extra Space Storage Inc'\n",
      " 'Weyerhaeuser Company' 'Etsy, Inc.' 'Las Vegas Sands Corp.'\n",
      " 'Devon Energy Corporation' 'VeriSign, Inc.' 'V.F. Corporation'\n",
      " 'Cerner Corporation' 'CSX Corporation' 'Gartner, Inc.' 'CDW Corporation'\n",
      " 'Vulcan Materials Company (Holdi' 'Synchrony Financial'\n",
      " 'Martin Marietta Materials, Inc.' 'Occidental Petroleum Corporatio'\n",
      " 'Teradyne, Inc.' 'AmerisourceBergen Corporation' 'Albemarle Corporation'\n",
      " 'Expedia Group, Inc.' 'W.W. Grainger, Inc.' 'ONEOK, Inc.'\n",
      " 'Hormel Foods Corporation' 'Tractor Supply Company'\n",
      " 'Realty Income Corporation' 'Enphase Energy, Inc.'\n",
      " 'Zimmer Biomet Holdings, Inc.' 'Garmin Ltd.' 'Edison International'\n",
      " 'Skyworks Solutions, Inc.' 'Paycom Software, Inc.'\n",
      " 'Mid-America Apartment Communiti' 'Seagate Technology Holdings PLC'\n",
      " 'Live Nation Entertainment, Inc.' 'McCormick & Company, Incorporat'\n",
      " 'Ingersoll Rand Inc.' 'Baker Hughes Company' 'Dover Corporation'\n",
      " 'Delta Air Lines, Inc.' 'Fortive Corporation'\n",
      " 'Northern Trust Corporation' 'Carnival Corporation' 'Best Buy Co., Inc.'\n",
      " 'Southwest Airlines Company' 'Church & Dwight Company, Inc.'\n",
      " 'Hartford Financial Services Gro' 'United Rentals, Inc.'\n",
      " 'Duke Realty Corporation' 'Microchip Technology Incorporat'\n",
      " 'STERIS plc (Ireland)' 'Hess Corporation' 'PPL Corporation'\n",
      " 'DTE Energy Company' 'Ameren Corporation' 'CarMax Inc'\n",
      " 'Huntington Bancshares Incorpora' 'Monolithic Power Systems, Inc.'\n",
      " 'Bio-Rad Laboratories, Inc.' 'Essex Property Trust, Inc.' 'KeyCorp'\n",
      " 'MGM Resorts International' 'Entergy Corporation'\n",
      " 'Generac Holdlings Inc.' 'FirstEnergy Corp.' 'Pool Corporation'\n",
      " 'Trimble Inc.' 'Waters Corporation' 'Expeditors International of Was'\n",
      " 'Kellogg Company' 'Clorox Company (The)' 'Catalent, Inc.'\n",
      " 'PerkinElmer, Inc.' 'Tyler Technologies, Inc.' 'Ulta Beauty, Inc.'\n",
      " 'Fox Corporation' 'NVR, Inc.' 'Xylem Inc.'\n",
      " 'Take-Two Interactive Software, ' 'J.B. Hunt Transport Services, I'\n",
      " \"Domino's Pizza Inc\" 'Regions Financial Corporation' 'Fox Corporation'\n",
      " 'Broadridge Financial Solutions,' 'Quest Diagnostics Incorporated'\n",
      " 'Halliburton Company' 'Hewlett Packard Enterprise Comp' 'NetApp, Inc.'\n",
      " 'Teledyne Technologies Incorpora' 'Caesars Entertainment, Inc.'\n",
      " 'Citizens Financial Group, Inc.' 'Hologic, Inc.'\n",
      " 'D/B/A Royal Caribbean Cruises L' 'The Cooper Companies, Inc.'\n",
      " 'Genuine Parts Company' 'M&T Bank Corporation'\n",
      " 'Principal Financial Group Inc' 'ViacomCBS Inc.'\n",
      " 'Diamondback Energy, Inc. - Comm' 'Healthpeak Properties, Inc.'\n",
      " 'Akamai Technologies, Inc.' 'Brown & Brown, Inc.'\n",
      " 'Darden Restaurants, Inc.' 'Bio-Techne Corp' 'Ventas, Inc.'\n",
      " 'CMS Energy Corporation' 'FleetCor Technologies, Inc.'\n",
      " 'Charles River Laboratories Inte' 'Western Digital Corporation'\n",
      " 'Amcor plc' 'Cincinnati Financial Corporatio' 'Boston Properties, Inc.'\n",
      " 'Celanese Corporation Celanese C' 'International Paper Company'\n",
      " 'Jacobs Engineering Group Inc.' 'IDEX Corporation'\n",
      " 'Avery Dennison Corporation' 'UDR, Inc.' 'LKQ Corporation' 'Qorvo, Inc.'\n",
      " 'Textron Inc.' 'DISH Network Corporation'\n",
      " 'Westinghouse Air Brake Technolo' 'Masco Corporation'\n",
      " 'Franklin Resources, Inc.' 'ConAgra Brands, Inc.' 'Incyte Corporation'\n",
      " 'Rollins, Inc.' 'Viatris Inc.' 'The AES Corporation'\n",
      " 'Eastman Chemical Company' 'MarketAxess Holdings, Inc.'\n",
      " 'Omnicom Group Inc.' 'Quanta Services, Inc.' 'Ceridian HCM Holding Inc.'\n",
      " 'Evergy, Inc.' 'ABIOMED, Inc.' 'CenterPoint Energy, Inc (Holdin'\n",
      " 'Teleflex Incorporated' 'Loews Corporation'\n",
      " 'Iron Mountain Incorporated (Del' 'Alliant Energy Corporation'\n",
      " 'NortonLifeLock Inc.' 'CF Industries Holdings, Inc.'\n",
      " 'Interpublic Group of Companies,' 'Cardinal Health, Inc.'\n",
      " 'Advance Auto Parts Inc.' 'J.M. Smucker Company (The) New'\n",
      " 'United Airlines Holdings, Inc.' 'Mosaic Company (The)'\n",
      " 'W.R. Berkley Corporation' 'PTC Inc.' 'Lumen Technologies, Inc.'\n",
      " 'F5, Inc.' 'PulteGroup, Inc.' 'Whirlpool Corporation'\n",
      " 'Fortune Brands Home & Security,' 'FMC Corporation'\n",
      " 'C.H. Robinson Worldwide, Inc.' 'News Corporation'\n",
      " 'Cboe Global Markets, Inc.' 'Raymond James Financial, Inc.'\n",
      " 'Howmet Aerospace Inc.' 'Hasbro, Inc.' 'Atmos Energy Corporation'\n",
      " 'A.O. Smith Corporation' 'Campbell Soup Company' 'News Corporation'\n",
      " 'Lincoln National Corporation' 'Marathon Oil Corporation'\n",
      " 'Packaging Corporation of Americ' 'Regency Centers Corporation'\n",
      " 'Jack Henry & Associates, Inc.' 'Leidos Holdings, Inc.'\n",
      " 'Robert Half International Inc.' 'Host Hotels'\n",
      " 'Discovery, Inc. - Series C' 'Comerica Incorporated'\n",
      " 'Citrix Systems, Inc.' 'Mohawk Industries, Inc.'\n",
      " 'American Airlines Group, Inc.' 'Pentair plc.' 'DENTSPLY SIRONA Inc.'\n",
      " 'DaVita Inc.' 'Westrock Company' 'Tapestry, Inc.' 'Allegion plc'\n",
      " 'Snap-On Incorporated' 'Discovery, Inc. - Series A'\n",
      " 'Juniper Networks, Inc.' 'Universal Health Services, Inc.'\n",
      " 'Everest Re Group, Ltd.' 'Henry Schein, Inc.' 'NiSource Inc'\n",
      " 'Invesco Ltd' 'BorgWarner Inc.' 'Federal Realty Investment Trust'\n",
      " 'NRG Energy, Inc.' 'Kimco Realty Corporation' 'Zions Bancorporation N.A.'\n",
      " 'Wynn Resorts, Limited' 'Sealed Air Corporation'\n",
      " 'Molson Coors Beverage Company' 'Globe Life Inc.' 'APA Corporation'\n",
      " 'Newell Brands Inc.' 'IPG Photonics Corporation'\n",
      " 'Lamb Weston Holdings, Inc.' 'Under Armour, Inc.' 'Assurant, Inc.'\n",
      " 'Under Armour, Inc.' 'Ralph Lauren Corporation'\n",
      " 'Norwegian Cruise Line Holdings ' 'DXC Technology Company'\n",
      " 'Vornado Realty Trust' 'Penn National Gaming, Inc.'\n",
      " 'Pinnacle West Capital Corporati' 'Huntington Ingalls Industries, '\n",
      " 'Western Union Company (The)' \"People's\" 'Nielsen N.V.' 'PVH Corp.'\n",
      " 'Alaska Air Group, Inc.' 'Gap, Inc. (The)' 'Hanesbrands Inc.'\n",
      " 'Leggett & Platt, Incorporated' 'Coterra Energy Inc.']\n"
     ]
    }
   ],
   "source": [
    "Shortnamenumpy = np.array(sp_marketcap['Shortname'])\n",
    "print(Shortnamenumpy)"
   ]
  },
  {
   "cell_type": "code",
   "execution_count": null,
   "id": "7067297e",
   "metadata": {},
   "outputs": [],
   "source": [
    "#Now I want to create a dataframe with MarketCap & Name to join with the sentiment analysis"
   ]
  },
  {
   "cell_type": "code",
   "execution_count": 36,
   "id": "f058fda3",
   "metadata": {},
   "outputs": [],
   "source": [
    "SPTopCompanies = sp500_companies.iloc[:16, 2:8]"
   ]
  },
  {
   "cell_type": "code",
   "execution_count": 37,
   "id": "8163c306",
   "metadata": {},
   "outputs": [
    {
     "name": "stdout",
     "output_type": "stream",
     "text": [
      "                          Shortname                         Longname  \\\n",
      "0                        Apple Inc.                       Apple Inc.   \n",
      "1             Microsoft Corporation            Microsoft Corporation   \n",
      "2                     Alphabet Inc.                    Alphabet Inc.   \n",
      "3                     Alphabet Inc.                    Alphabet Inc.   \n",
      "4                  Amazon.com, Inc.                 Amazon.com, Inc.   \n",
      "5              Meta Platforms, Inc.             Meta Platforms, Inc.   \n",
      "6                       Tesla, Inc.                      Tesla, Inc.   \n",
      "7          General Electric Company         General Electric Company   \n",
      "8       Berkshire Hathaway Inc. New          Berkshire Hathaway Inc.   \n",
      "9                         Visa Inc.                        Visa Inc.   \n",
      "10            JP Morgan Chase & Co.             JPMorgan Chase & Co.   \n",
      "11  UnitedHealth Group Incorporated  UnitedHealth Group Incorporated   \n",
      "12                Johnson & Johnson                Johnson & Johnson   \n",
      "13           Home Depot, Inc. (The)             The Home Depot, Inc.   \n",
      "14                     Walmart Inc.                     Walmart Inc.   \n",
      "15   Procter & Gamble Company (The)     The Procter & Gamble Company   \n",
      "\n",
      "                    Sector                        Industry  Currentprice  \\\n",
      "0               Technology            Consumer Electronics        172.99   \n",
      "1               Technology         Software—Infrastructure        327.29   \n",
      "2   Communication Services  Internet Content & Information       2869.45   \n",
      "3   Communication Services  Internet Content & Information       2884.41   \n",
      "4        Consumer Cyclical                 Internet Retail       3408.34   \n",
      "5   Communication Services  Internet Content & Information        334.20   \n",
      "6        Consumer Cyclical              Auto Manufacturers        938.53   \n",
      "7              Industrials  Specialty Industrial Machinery         93.06   \n",
      "8       Financial Services           Insurance—Diversified        293.24   \n",
      "9       Financial Services                 Credit Services        215.38   \n",
      "10      Financial Services               Banks—Diversified        156.09   \n",
      "11              Healthcare                Healthcare Plans        487.21   \n",
      "12              Healthcare      Drug Manufacturers—General        167.21   \n",
      "13       Consumer Cyclical         Home Improvement Retail        390.47   \n",
      "14      Consumer Defensive                 Discount Stores        139.62   \n",
      "15      Consumer Defensive   Household & Personal Products        157.76   \n",
      "\n",
      "       Marketcap  \n",
      "0   2.838140e+12  \n",
      "1   2.465010e+12  \n",
      "2   1.909750e+12  \n",
      "3   1.909000e+12  \n",
      "4   1.728530e+12  \n",
      "5   9.476110e+11  \n",
      "6   9.041140e+11  \n",
      "7   8.169400e+11  \n",
      "8   6.709240e+11  \n",
      "9   4.739160e+11  \n",
      "10  4.725000e+11  \n",
      "11  4.597810e+11  \n",
      "12  4.403310e+11  \n",
      "13  4.151710e+11  \n",
      "14  3.912360e+11  \n",
      "15  3.862330e+11  \n"
     ]
    }
   ],
   "source": [
    "print(SPTopCompanies)"
   ]
  },
  {
   "cell_type": "code",
   "execution_count": null,
   "id": "3e177875",
   "metadata": {},
   "outputs": [],
   "source": [
    "#Drop some values after based on testing Sentiment Analysis"
   ]
  },
  {
   "cell_type": "code",
   "execution_count": 38,
   "id": "43ca1b99",
   "metadata": {},
   "outputs": [],
   "source": [
    "SPTopCompanies.drop(['Longname','Sector', 'Industry',], axis = 1, inplace = True)"
   ]
  },
  {
   "cell_type": "code",
   "execution_count": 39,
   "id": "e2ccf269",
   "metadata": {},
   "outputs": [
    {
     "name": "stdout",
     "output_type": "stream",
     "text": [
      "                          Shortname  Currentprice     Marketcap\n",
      "0                        Apple Inc.        172.99  2.838140e+12\n",
      "1             Microsoft Corporation        327.29  2.465010e+12\n",
      "2                     Alphabet Inc.       2869.45  1.909750e+12\n",
      "3                     Alphabet Inc.       2884.41  1.909000e+12\n",
      "4                  Amazon.com, Inc.       3408.34  1.728530e+12\n",
      "5              Meta Platforms, Inc.        334.20  9.476110e+11\n",
      "6                       Tesla, Inc.        938.53  9.041140e+11\n",
      "7          General Electric Company         93.06  8.169400e+11\n",
      "8       Berkshire Hathaway Inc. New        293.24  6.709240e+11\n",
      "9                         Visa Inc.        215.38  4.739160e+11\n",
      "10            JP Morgan Chase & Co.        156.09  4.725000e+11\n",
      "11  UnitedHealth Group Incorporated        487.21  4.597810e+11\n",
      "12                Johnson & Johnson        167.21  4.403310e+11\n",
      "13           Home Depot, Inc. (The)        390.47  4.151710e+11\n",
      "14                     Walmart Inc.        139.62  3.912360e+11\n",
      "15   Procter & Gamble Company (The)        157.76  3.862330e+11\n"
     ]
    }
   ],
   "source": [
    "print(SPTopCompanies)"
   ]
  },
  {
   "cell_type": "code",
   "execution_count": 45,
   "id": "943bf348",
   "metadata": {},
   "outputs": [
    {
     "data": {
      "text/html": [
       "<div>\n",
       "<style scoped>\n",
       "    .dataframe tbody tr th:only-of-type {\n",
       "        vertical-align: middle;\n",
       "    }\n",
       "\n",
       "    .dataframe tbody tr th {\n",
       "        vertical-align: top;\n",
       "    }\n",
       "\n",
       "    .dataframe thead th {\n",
       "        text-align: right;\n",
       "    }\n",
       "</style>\n",
       "<table border=\"1\" class=\"dataframe\">\n",
       "  <thead>\n",
       "    <tr style=\"text-align: right;\">\n",
       "      <th></th>\n",
       "      <th>Shortname</th>\n",
       "      <th>Currentprice</th>\n",
       "      <th>Marketcap</th>\n",
       "    </tr>\n",
       "  </thead>\n",
       "  <tbody>\n",
       "    <tr>\n",
       "      <th>0</th>\n",
       "      <td>Apple Inc.</td>\n",
       "      <td>172.99</td>\n",
       "      <td>2.838140e+12</td>\n",
       "    </tr>\n",
       "    <tr>\n",
       "      <th>1</th>\n",
       "      <td>Microsoft Corporation</td>\n",
       "      <td>327.29</td>\n",
       "      <td>2.465010e+12</td>\n",
       "    </tr>\n",
       "    <tr>\n",
       "      <th>3</th>\n",
       "      <td>Alphabet Inc.</td>\n",
       "      <td>2884.41</td>\n",
       "      <td>1.909000e+12</td>\n",
       "    </tr>\n",
       "    <tr>\n",
       "      <th>4</th>\n",
       "      <td>Amazon.com, Inc.</td>\n",
       "      <td>3408.34</td>\n",
       "      <td>1.728530e+12</td>\n",
       "    </tr>\n",
       "    <tr>\n",
       "      <th>5</th>\n",
       "      <td>Meta Platforms, Inc.</td>\n",
       "      <td>334.20</td>\n",
       "      <td>9.476110e+11</td>\n",
       "    </tr>\n",
       "    <tr>\n",
       "      <th>6</th>\n",
       "      <td>Tesla, Inc.</td>\n",
       "      <td>938.53</td>\n",
       "      <td>9.041140e+11</td>\n",
       "    </tr>\n",
       "    <tr>\n",
       "      <th>10</th>\n",
       "      <td>JP Morgan Chase &amp; Co.</td>\n",
       "      <td>156.09</td>\n",
       "      <td>4.725000e+11</td>\n",
       "    </tr>\n",
       "    <tr>\n",
       "      <th>12</th>\n",
       "      <td>Johnson &amp; Johnson</td>\n",
       "      <td>167.21</td>\n",
       "      <td>4.403310e+11</td>\n",
       "    </tr>\n",
       "    <tr>\n",
       "      <th>13</th>\n",
       "      <td>Home Depot, Inc. (The)</td>\n",
       "      <td>390.47</td>\n",
       "      <td>4.151710e+11</td>\n",
       "    </tr>\n",
       "    <tr>\n",
       "      <th>14</th>\n",
       "      <td>Walmart Inc.</td>\n",
       "      <td>139.62</td>\n",
       "      <td>3.912360e+11</td>\n",
       "    </tr>\n",
       "  </tbody>\n",
       "</table>\n",
       "</div>"
      ],
      "text/plain": [
       "                 Shortname  Currentprice     Marketcap\n",
       "0               Apple Inc.        172.99  2.838140e+12\n",
       "1    Microsoft Corporation        327.29  2.465010e+12\n",
       "3            Alphabet Inc.       2884.41  1.909000e+12\n",
       "4         Amazon.com, Inc.       3408.34  1.728530e+12\n",
       "5     Meta Platforms, Inc.        334.20  9.476110e+11\n",
       "6              Tesla, Inc.        938.53  9.041140e+11\n",
       "10   JP Morgan Chase & Co.        156.09  4.725000e+11\n",
       "12       Johnson & Johnson        167.21  4.403310e+11\n",
       "13  Home Depot, Inc. (The)        390.47  4.151710e+11\n",
       "14            Walmart Inc.        139.62  3.912360e+11"
      ]
     },
     "execution_count": 45,
     "metadata": {},
     "output_type": "execute_result"
    }
   ],
   "source": [
    "SPTopCompanies.drop([2,7,8,9,11,15])"
   ]
  },
  {
   "cell_type": "code",
   "execution_count": null,
   "id": "a99ca0a3",
   "metadata": {},
   "outputs": [],
   "source": []
  }
 ],
 "metadata": {
  "kernelspec": {
   "display_name": "Python 3",
   "language": "python",
   "name": "python3"
  },
  "language_info": {
   "codemirror_mode": {
    "name": "ipython",
    "version": 3
   },
   "file_extension": ".py",
   "mimetype": "text/x-python",
   "name": "python",
   "nbconvert_exporter": "python",
   "pygments_lexer": "ipython3",
   "version": "3.8.8"
  }
 },
 "nbformat": 4,
 "nbformat_minor": 5
}
